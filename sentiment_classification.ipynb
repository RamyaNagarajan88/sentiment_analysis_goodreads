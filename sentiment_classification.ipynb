{
 "cells": [
  {
   "cell_type": "code",
   "execution_count": 1,
   "source": [
    "#implemented ideas from https://towardsdatascience.com/yet-another-twitter-sentiment-analysis-part-1-tackling-class-imbalance-4d7a7f717d44"
   ],
   "outputs": [],
   "metadata": {}
  },
  {
   "cell_type": "code",
   "execution_count": 2,
   "source": [
    "import pandas as pd\r\n",
    "import numpy as np\r\n",
    "import json\r\n",
    "import re\r\n",
    "import string\r\n",
    "import nltk\r\n",
    "import spacy\r\n",
    "from sklearn.feature_extraction._stop_words import ENGLISH_STOP_WORDS\r\n"
   ],
   "outputs": [],
   "metadata": {}
  },
  {
   "cell_type": "code",
   "execution_count": 3,
   "source": [
    "nltk.download('words')\r\n",
    "eng_words=set(nltk.corpus.words.words())\r\n",
    "nltk.download('stopwords')\r\n",
    "from nltk.corpus import stopwords\r\n",
    "stopwords=stopwords.words('english')\r\n",
    "stopwords.extend(['book','story','read','reading','really','one'])"
   ],
   "outputs": [
    {
     "output_type": "stream",
     "name": "stderr",
     "text": [
      "[nltk_data] Downloading package words to\n",
      "[nltk_data]     C:\\Users\\ramya\\AppData\\Roaming\\nltk_data...\n",
      "[nltk_data]   Package words is already up-to-date!\n",
      "[nltk_data] Downloading package stopwords to\n",
      "[nltk_data]     C:\\Users\\ramya\\AppData\\Roaming\\nltk_data...\n",
      "[nltk_data]   Package stopwords is already up-to-date!\n"
     ]
    }
   ],
   "metadata": {}
  },
  {
   "cell_type": "code",
   "execution_count": 5,
   "source": [
    "filepath='E:/Ramya/brushUps/Basics/ML using sklearn/Projects/Sentiment_analysis/data/goodreads_reviews_children.json'\r\n",
    "with open(filepath) as f:\r\n",
    "    lines=f.read().splitlines()"
   ],
   "outputs": [],
   "metadata": {}
  },
  {
   "cell_type": "code",
   "execution_count": 6,
   "source": [
    "data_inter=pd.DataFrame(lines)\r\n",
    "data_inter.columns=['json_element']"
   ],
   "outputs": [],
   "metadata": {}
  },
  {
   "cell_type": "code",
   "execution_count": 7,
   "source": [
    "data_inter['json_element'].apply(json.loads)"
   ],
   "outputs": [
    {
     "output_type": "execute_result",
     "data": {
      "text/plain": [
       "0         {'user_id': '8842281e1d1347389f2ab93d60773d4d'...\n",
       "1         {'user_id': '8842281e1d1347389f2ab93d60773d4d'...\n",
       "2         {'user_id': '8842281e1d1347389f2ab93d60773d4d'...\n",
       "3         {'user_id': '8842281e1d1347389f2ab93d60773d4d'...\n",
       "4         {'user_id': '8842281e1d1347389f2ab93d60773d4d'...\n",
       "                                ...                        \n",
       "734635    {'user_id': '480ac8b4df39533a6c7fe6ae109aa56a'...\n",
       "734636    {'user_id': 'afcd096765a8c354be0706ab1324999b'...\n",
       "734637    {'user_id': 'd94c83867337514c94738b57a1d19677'...\n",
       "734638    {'user_id': '48a10d546ba07520ce194dc18e687be4'...\n",
       "734639    {'user_id': 'da6f9516279ed671027308abd21318bd'...\n",
       "Name: json_element, Length: 734640, dtype: object"
      ]
     },
     "metadata": {},
     "execution_count": 7
    }
   ],
   "metadata": {}
  },
  {
   "cell_type": "code",
   "execution_count": 8,
   "source": [
    "data=pd.json_normalize(data_inter['json_element'].apply(json.loads))"
   ],
   "outputs": [],
   "metadata": {}
  },
  {
   "cell_type": "code",
   "execution_count": 9,
   "source": [
    "reviews_data=data[['book_id','rating','review_text']]"
   ],
   "outputs": [],
   "metadata": {}
  },
  {
   "cell_type": "code",
   "execution_count": 10,
   "source": [
    "contraction_mapping = {\"ain't\": \"is not\", \"aren't\": \"are not\",\"can't\": \"cannot\", \r\n",
    "                   \"can't've\": \"cannot have\", \"'cause\": \"because\", \"could've\": \"could have\", \r\n",
    "                   \"couldn't\": \"could not\", \"couldn't've\": \"could not have\",\"didn't\": \"did not\", \r\n",
    "                   \"doesn't\": \"does not\", \"don't\": \"do not\", \"hadn't\": \"had not\", \r\n",
    "                   \"hadn't've\": \"had not have\", \"hasn't\": \"has not\", \"haven't\": \"have not\", \r\n",
    "                   \"he'd\": \"he would\", \"he'd've\": \"he would have\", \"he'll\": \"he will\", \r\n",
    "                   \"he'll've\": \"he will have\", \"he's\": \"he is\", \"how'd\": \"how did\", \r\n",
    "                   \"how'd'y\": \"how do you\", \"how'll\": \"how will\", \"how's\": \"how is\", \r\n",
    "                   \"I'd\": \"I would\", \"I'd've\": \"I would have\", \"I'll\": \"I will\", \r\n",
    "                   \"I'll've\": \"I will have\",\"I'm\": \"I am\", \"I've\": \"I have\", \r\n",
    "                   \"i'd\": \"i would\", \"i'd've\": \"i would have\", \"i'll\": \"i will\", \r\n",
    "                   \"i'll've\": \"i will have\",\"i'm\": \"i am\", \"i've\": \"i have\", \r\n",
    "                   \"isn't\": \"is not\", \"it'd\": \"it would\", \"it'd've\": \"it would have\", \r\n",
    "                   \"it'll\": \"it will\", \"it'll've\": \"it will have\",\"it's\": \"it is\", \r\n",
    "                   \"let's\": \"let us\", \"ma'am\": \"madam\", \"mayn't\": \"may not\", \r\n",
    "                   \"might've\": \"might have\",\"mightn't\": \"might not\",\"mightn't've\": \"might not have\", \r\n",
    "                   \"must've\": \"must have\", \"mustn't\": \"must not\", \"mustn't've\": \"must not have\", \r\n",
    "                   \"needn't\": \"need not\", \"needn't've\": \"need not have\",\"o'clock\": \"of the clock\", \r\n",
    "                   \"oughtn't\": \"ought not\", \"oughtn't've\": \"ought not have\", \"shan't\": \"shall not\",\r\n",
    "                   \"sha'n't\": \"shall not\", \"shan't've\": \"shall not have\", \"she'd\": \"she would\", \r\n",
    "                   \"she'd've\": \"she would have\", \"she'll\": \"she will\", \"she'll've\": \"she will have\", \r\n",
    "                   \"she's\": \"she is\", \"should've\": \"should have\", \"shouldn't\": \"should not\", \r\n",
    "                   \"shouldn't've\": \"should not have\", \"so've\": \"so have\",\"so's\": \"so as\", \r\n",
    "                   \"this's\": \"this is\",\r\n",
    "                   \"that'd\": \"that would\", \"that'd've\": \"that would have\",\"that's\": \"that is\", \r\n",
    "                   \"there'd\": \"there would\", \"there'd've\": \"there would have\",\"there's\": \"there is\", \r\n",
    "                       \"here's\": \"here is\",\r\n",
    "                   \"they'd\": \"they would\", \"they'd've\": \"they would have\", \"they'll\": \"they will\", \r\n",
    "                   \"they'll've\": \"they will have\", \"they're\": \"they are\", \"they've\": \"they have\", \r\n",
    "                   \"to've\": \"to have\", \"wasn't\": \"was not\", \"we'd\": \"we would\", \r\n",
    "                   \"we'd've\": \"we would have\", \"we'll\": \"we will\", \"we'll've\": \"we will have\", \r\n",
    "                   \"we're\": \"we are\", \"we've\": \"we have\", \"weren't\": \"were not\", \r\n",
    "                   \"what'll\": \"what will\", \"what'll've\": \"what will have\", \"what're\": \"what are\", \r\n",
    "                   \"what's\": \"what is\", \"what've\": \"what have\", \"when's\": \"when is\", \r\n",
    "                   \"when've\": \"when have\", \"where'd\": \"where did\", \"where's\": \"where is\", \r\n",
    "                   \"where've\": \"where have\", \"who'll\": \"who will\", \"who'll've\": \"who will have\", \r\n",
    "                   \"who's\": \"who is\", \"who've\": \"who have\", \"why's\": \"why is\", \r\n",
    "                   \"why've\": \"why have\", \"will've\": \"will have\", \"won't\": \"will not\", \r\n",
    "                   \"won't've\": \"will not have\", \"would've\": \"would have\", \"wouldn't\": \"would not\", \r\n",
    "                   \"wouldn't've\": \"would not have\", \"y'all\": \"you all\", \"y'all'd\": \"you all would\",\r\n",
    "                   \"y'all'd've\": \"you all would have\",\"y'all're\": \"you all are\",\"y'all've\": \"you all have\",\r\n",
    "                   \"you'd\": \"you would\", \"you'd've\": \"you would have\", \"you'll\": \"you will\", \r\n",
    "                   \"you'll've\": \"you will have\", \"you're\": \"you are\", \"you've\": \"you have\" } "
   ],
   "outputs": [],
   "metadata": {}
  },
  {
   "cell_type": "code",
   "execution_count": 16,
   "source": [
    "def reviewsTextCleaning(review):\r\n",
    "    #expanding words\r\n",
    "    review=' '.join([contraction_mapping[word] if word in contraction_mapping.keys() else word for word in review.split()])\r\n",
    "    #removing @mentions\r\n",
    "    review=re.sub(r'@[A-Za-z0-9]+',' ',review)\r\n",
    "    review=review.lower()\r\n",
    "    review=review.strip()\r\n",
    "    review=review.replace('\\n','')\r\n",
    "    review=review.replace('\\t','')\r\n",
    "    #converting apostrophes to single quote\r\n",
    "    review=review.replace(\"’\", \"'\")\r\n",
    "    #removing punctuations\r\n",
    "    review=review.translate(str.maketrans('','',string.punctuation))\r\n",
    "    #removinf digits\r\n",
    "    review=re.sub(r'\\d+','',review)\r\n",
    "    #removing urls\r\n",
    "    review=re.sub(r'^https?:\\/\\/.*[\\r\\n]*','',review)\r\n",
    "    #removing tags\r\n",
    "    remove_tags=re.compile('<.*?>')\r\n",
    "    review=re.sub(remove_tags,'',review) \r\n",
    "    #ignoring gibberish words\r\n",
    "    review=' '.join(w for w in nltk.wordpunct_tokenize(review) if w.lower() in eng_words or not w.isalpha())\r\n",
    "    #lemmatization\r\n",
    "    nlp=spacy.load('en_core_web_sm',disable=['parser','ner'])\r\n",
    "    review=' '.join([token.lemma_ for token in nlp(review)])\r\n",
    "    # removing repeated characters \r\n",
    "    review=re.sub(r'(.)\\1+', r'\\1\\1', review)\r\n",
    "\r\n",
    "    return review                                                                                                                                                                                                                                                                                                                                                   "
   ],
   "outputs": [],
   "metadata": {}
  },
  {
   "cell_type": "code",
   "execution_count": 17,
   "source": [
    "reviews_data['review_text']=reviews_data['review_text'].apply(reviewsTextCleaning)"
   ],
   "outputs": [
    {
     "output_type": "stream",
     "name": "stderr",
     "text": [
      "<ipython-input-17-8f1a8d71108e>:1: SettingWithCopyWarning: \n",
      "A value is trying to be set on a copy of a slice from a DataFrame.\n",
      "Try using .loc[row_indexer,col_indexer] = value instead\n",
      "\n",
      "See the caveats in the documentation: https://pandas.pydata.org/pandas-docs/stable/user_guide/indexing.html#returning-a-view-versus-a-copy\n",
      "  reviews_data['review_text']=reviews_data['review_text'].apply(reviewsTextCleaning)\n"
     ]
    }
   ],
   "metadata": {}
  },
  {
   "cell_type": "code",
   "execution_count": 18,
   "source": [
    "reviews_data['review_text'].head"
   ],
   "outputs": [
    {
     "output_type": "execute_result",
     "data": {
      "text/plain": [
       "<bound method NDFrame.head of 0                                fun sequel to the original\n",
       "1         one of my favorite to read to my year old to h...\n",
       "2         one of the good and most imaginative I have ev...\n",
       "3         my daughter be love this in the s and one of t...\n",
       "4                            a friend send I this hilarious\n",
       "                                ...                        \n",
       "734635    do not give a satisfying end to the series a d...\n",
       "734636    my mother give I this book as a gift it be ado...\n",
       "734637    if I be a middle grade I would give this anyho...\n",
       "734638    I have a limited selection of childhood I stil...\n",
       "734639    I collect write and by I love his and this be ...\n",
       "Name: review_text, Length: 734640, dtype: object>"
      ]
     },
     "metadata": {},
     "execution_count": 18
    }
   ],
   "metadata": {}
  },
  {
   "cell_type": "code",
   "execution_count": null,
   "source": [],
   "outputs": [],
   "metadata": {}
  }
 ],
 "metadata": {
  "orig_nbformat": 4,
  "language_info": {
   "name": "python",
   "version": "3.9.4",
   "mimetype": "text/x-python",
   "codemirror_mode": {
    "name": "ipython",
    "version": 3
   },
   "pygments_lexer": "ipython3",
   "nbconvert_exporter": "python",
   "file_extension": ".py"
  },
  "kernelspec": {
   "name": "python3",
   "display_name": "Python 3.9.4 64-bit"
  },
  "interpreter": {
   "hash": "dc35b9876508b1d2e1d46d593856ae8aa478e8b34d2a595b43b666b93debebc3"
  }
 },
 "nbformat": 4,
 "nbformat_minor": 2
}